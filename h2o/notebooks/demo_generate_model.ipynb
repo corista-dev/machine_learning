{
 "cells": [
  {
   "cell_type": "code",
   "execution_count": 1,
   "metadata": {},
   "outputs": [],
   "source": [
    "#This notebook is the first part of a demo that aimed to create a model, export it and then\n",
    "\n",
    "\n",
    "import h2o\n",
    "import matplotlib as plot\n",
    "%matplotlib inline"
   ]
  },
  {
   "cell_type": "code",
   "execution_count": 2,
   "metadata": {},
   "outputs": [
    {
     "name": "stdout",
     "output_type": "stream",
     "text": [
      "Checking whether there is an H2O instance running at http://localhost:54321 ..... not found.\n",
      "Attempting to start a local H2O server...\n",
      "; Java HotSpot(TM) 64-Bit Server VM (build 25.211-b12, mixed mode)\n",
      "  Starting server from c:\\users\\pasilvacorista\\appdata\\local\\programs\\python\\python37\\lib\\site-packages\\h2o\\backend\\bin\\h2o.jar\n",
      "  Ice root: C:\\Users\\PASILV~1\\AppData\\Local\\Temp\\tmpmoj7i8aa\n",
      "  JVM stdout: C:\\Users\\PASILV~1\\AppData\\Local\\Temp\\tmpmoj7i8aa\\h2o_pasilvacorista_started_from_python.out\n",
      "  JVM stderr: C:\\Users\\PASILV~1\\AppData\\Local\\Temp\\tmpmoj7i8aa\\h2o_pasilvacorista_started_from_python.err\n",
      "  Server is running at http://127.0.0.1:54321\n",
      "Connecting to H2O server at http://127.0.0.1:54321 ... successful.\n"
     ]
    },
    {
     "data": {
      "text/html": [
       "<div style=\"overflow:auto\"><table style=\"width:50%\"><tr><td>H2O cluster uptime:</td>\n",
       "<td>08 secs</td></tr>\n",
       "<tr><td>H2O cluster timezone:</td>\n",
       "<td>Europe/London</td></tr>\n",
       "<tr><td>H2O data parsing timezone:</td>\n",
       "<td>UTC</td></tr>\n",
       "<tr><td>H2O cluster version:</td>\n",
       "<td>3.24.0.5</td></tr>\n",
       "<tr><td>H2O cluster version age:</td>\n",
       "<td>1 month and 6 days </td></tr>\n",
       "<tr><td>H2O cluster name:</td>\n",
       "<td>H2O_from_python_pasilvacorista_irfp26</td></tr>\n",
       "<tr><td>H2O cluster total nodes:</td>\n",
       "<td>1</td></tr>\n",
       "<tr><td>H2O cluster free memory:</td>\n",
       "<td>1.752 Gb</td></tr>\n",
       "<tr><td>H2O cluster total cores:</td>\n",
       "<td>4</td></tr>\n",
       "<tr><td>H2O cluster allowed cores:</td>\n",
       "<td>4</td></tr>\n",
       "<tr><td>H2O cluster status:</td>\n",
       "<td>locked, healthy</td></tr>\n",
       "<tr><td>H2O connection url:</td>\n",
       "<td>http://127.0.0.1:54321</td></tr>\n",
       "<tr><td>H2O connection proxy:</td>\n",
       "<td>None</td></tr>\n",
       "<tr><td>H2O internal security:</td>\n",
       "<td>False</td></tr>\n",
       "<tr><td>H2O API Extensions:</td>\n",
       "<td>Amazon S3, Algos, AutoML, Core V3, Core V4</td></tr>\n",
       "<tr><td>Python version:</td>\n",
       "<td>3.7.4 final</td></tr></table></div>"
      ],
      "text/plain": [
       "--------------------------  ------------------------------------------\n",
       "H2O cluster uptime:         08 secs\n",
       "H2O cluster timezone:       Europe/London\n",
       "H2O data parsing timezone:  UTC\n",
       "H2O cluster version:        3.24.0.5\n",
       "H2O cluster version age:    1 month and 6 days\n",
       "H2O cluster name:           H2O_from_python_pasilvacorista_irfp26\n",
       "H2O cluster total nodes:    1\n",
       "H2O cluster free memory:    1.752 Gb\n",
       "H2O cluster total cores:    4\n",
       "H2O cluster allowed cores:  4\n",
       "H2O cluster status:         locked, healthy\n",
       "H2O connection url:         http://127.0.0.1:54321\n",
       "H2O connection proxy:\n",
       "H2O internal security:      False\n",
       "H2O API Extensions:         Amazon S3, Algos, AutoML, Core V3, Core V4\n",
       "Python version:             3.7.4 final\n",
       "--------------------------  ------------------------------------------"
      ]
     },
     "metadata": {},
     "output_type": "display_data"
    }
   ],
   "source": [
    "h2o.init()"
   ]
  },
  {
   "cell_type": "code",
   "execution_count": 3,
   "metadata": {},
   "outputs": [
    {
     "name": "stdout",
     "output_type": "stream",
     "text": [
      "Parse progress: |█████████████████████████████████████████████████████████| 100%\n"
     ]
    }
   ],
   "source": [
    "url=\"https://s3.amazonaws.com/h2o-public-test-data/smalldata/junit/cars_20mpg.csv\"\n",
    "data = h2o.import_file(url) "
   ]
  },
  {
   "cell_type": "code",
   "execution_count": 4,
   "metadata": {},
   "outputs": [
    {
     "data": {
      "text/html": [
       "<table>\n",
       "<thead>\n",
       "<tr><th>       </th><th>name                   </th><th>economy           </th><th>cylinders         </th><th>displacement      </th><th>power             </th><th>weight           </th><th>acceleration      </th><th>year              </th><th>economy_20mpg      </th></tr>\n",
       "</thead>\n",
       "<tbody>\n",
       "<tr><td>type   </td><td>enum                   </td><td>real              </td><td>int               </td><td>real              </td><td>int               </td><td>int              </td><td>real              </td><td>int               </td><td>int                </td></tr>\n",
       "<tr><td>mins   </td><td>                       </td><td>9.0               </td><td>3.0               </td><td>68.0              </td><td>46.0              </td><td>1613.0           </td><td>8.0               </td><td>70.0              </td><td>0.0                </td></tr>\n",
       "<tr><td>mean   </td><td>                       </td><td>23.514572864321607</td><td>5.475369458128076 </td><td>194.77955665024626</td><td>105.08249999999998</td><td>2979.413793103448</td><td>15.519704433497527</td><td>75.92118226600998 </td><td>0.5979899497487438 </td></tr>\n",
       "<tr><td>maxs   </td><td>                       </td><td>46.6              </td><td>8.0               </td><td>455.0             </td><td>230.0             </td><td>5140.0           </td><td>24.8              </td><td>82.0              </td><td>1.0                </td></tr>\n",
       "<tr><td>sigma  </td><td>                       </td><td>7.815984312565784 </td><td>1.7121596315485295</td><td>104.92245837948873</td><td>38.76877918310518 </td><td>847.0043282393509</td><td>2.8033588163425476</td><td>3.7487373454558766</td><td>0.49092107939664525</td></tr>\n",
       "<tr><td>zeros  </td><td>                       </td><td>0                 </td><td>0                 </td><td>0                 </td><td>0                 </td><td>0                </td><td>0                 </td><td>0                 </td><td>160                </td></tr>\n",
       "<tr><td>missing</td><td>0                      </td><td>8                 </td><td>0                 </td><td>0                 </td><td>6                 </td><td>0                </td><td>0                 </td><td>0                 </td><td>8                  </td></tr>\n",
       "<tr><td>0      </td><td>AMC Ambassador Brougham</td><td>13.0              </td><td>8.0               </td><td>360.0             </td><td>175.0             </td><td>3821.0           </td><td>11.0              </td><td>73.0              </td><td>0.0                </td></tr>\n",
       "<tr><td>1      </td><td>AMC Ambassador DPL     </td><td>15.0              </td><td>8.0               </td><td>390.0             </td><td>190.0             </td><td>3850.0           </td><td>8.5               </td><td>70.0              </td><td>0.0                </td></tr>\n",
       "<tr><td>2      </td><td>AMC Ambassador SST     </td><td>17.0              </td><td>8.0               </td><td>304.0             </td><td>150.0             </td><td>3672.0           </td><td>11.5              </td><td>72.0              </td><td>0.0                </td></tr>\n",
       "<tr><td>3      </td><td>AMC Concord DL 6       </td><td>20.200000000000003</td><td>6.0               </td><td>232.0             </td><td>90.0              </td><td>3265.0           </td><td>18.2              </td><td>79.0              </td><td>1.0                </td></tr>\n",
       "<tr><td>4      </td><td>AMC Concord DL         </td><td>18.1              </td><td>6.0               </td><td>258.0             </td><td>120.0             </td><td>3410.0           </td><td>15.1              </td><td>78.0              </td><td>0.0                </td></tr>\n",
       "<tr><td>5      </td><td>AMC Concord DL         </td><td>23.0              </td><td>4.0               </td><td>151.0             </td><td>nan               </td><td>3035.0           </td><td>20.5              </td><td>82.0              </td><td>1.0                </td></tr>\n",
       "<tr><td>6      </td><td>AMC Concord            </td><td>19.4              </td><td>6.0               </td><td>232.0             </td><td>90.0              </td><td>3210.0           </td><td>17.2              </td><td>78.0              </td><td>0.0                </td></tr>\n",
       "<tr><td>7      </td><td>AMC Concord            </td><td>24.3              </td><td>4.0               </td><td>151.0             </td><td>90.0              </td><td>3003.0           </td><td>20.1              </td><td>80.0              </td><td>1.0                </td></tr>\n",
       "<tr><td>8      </td><td>AMC Gremlin            </td><td>18.0              </td><td>6.0               </td><td>232.0             </td><td>100.0             </td><td>2789.0           </td><td>15.0              </td><td>73.0              </td><td>0.0                </td></tr>\n",
       "<tr><td>9      </td><td>AMC Gremlin            </td><td>19.0              </td><td>6.0               </td><td>232.0             </td><td>100.0             </td><td>2634.0           </td><td>13.0              </td><td>71.0              </td><td>0.0                </td></tr>\n",
       "</tbody>\n",
       "</table>"
      ]
     },
     "metadata": {},
     "output_type": "display_data"
    }
   ],
   "source": [
    "data.summary()"
   ]
  },
  {
   "cell_type": "code",
   "execution_count": 5,
   "metadata": {},
   "outputs": [],
   "source": [
    "data[\"economy_20mpg\"] = data[\"economy_20mpg\"].asfactor()\n",
    "column_predict = \"economy_20mpg\"\n",
    "columns_training = [\"displacement\",\"power\",\"acceleration\",\"year\"]"
   ]
  },
  {
   "cell_type": "code",
   "execution_count": 6,
   "metadata": {},
   "outputs": [
    {
     "data": {
      "text/plain": [
       "['displacement', 'power', 'acceleration', 'year']"
      ]
     },
     "execution_count": 6,
     "metadata": {},
     "output_type": "execute_result"
    }
   ],
   "source": [
    "columns_training"
   ]
  },
  {
   "cell_type": "code",
   "execution_count": 7,
   "metadata": {},
   "outputs": [],
   "source": [
    "train, val, test = data.split_frame(ratios = [0.8,0.1], seed= 123)"
   ]
  },
  {
   "cell_type": "code",
   "execution_count": 8,
   "metadata": {},
   "outputs": [],
   "source": [
    "from h2o.estimators.gbm import H2OGradientBoostingEstimator"
   ]
  },
  {
   "cell_type": "code",
   "execution_count": 9,
   "metadata": {},
   "outputs": [],
   "source": [
    "model_gbm= H2OGradientBoostingEstimator(model_id = \"gbm\"\n",
    "                  , ntrees = 100 \n",
    "                  , max_depth = 10\n",
    "                  , stopping_rounds = 0\n",
    "                                    )"
   ]
  },
  {
   "cell_type": "code",
   "execution_count": 11,
   "metadata": {},
   "outputs": [
    {
     "name": "stdout",
     "output_type": "stream",
     "text": [
      "gbm Model Build progress: |███████████████████████████████████████████████| 100%\n"
     ]
    }
   ],
   "source": [
    "model_gbm.train(x= columns_training, y=column_predict, training_frame = train, validation_frame = val )"
   ]
  },
  {
   "cell_type": "code",
   "execution_count": 12,
   "metadata": {},
   "outputs": [
    {
     "data": {
      "text/plain": [
       "0.9982638888888888"
      ]
     },
     "execution_count": 12,
     "metadata": {},
     "output_type": "execute_result"
    }
   ],
   "source": [
    "model_gbm.auc(valid=True)\n"
   ]
  },
  {
   "cell_type": "code",
   "execution_count": 13,
   "metadata": {},
   "outputs": [
    {
     "data": {
      "text/plain": [
       "[[0.8031020068650673, 0.9846153846153847]]"
      ]
     },
     "execution_count": 13,
     "metadata": {},
     "output_type": "execute_result"
    }
   ],
   "source": [
    "model_gbm.F1(valid=True)"
   ]
  },
  {
   "cell_type": "code",
   "execution_count": 14,
   "metadata": {},
   "outputs": [
    {
     "name": "stdout",
     "output_type": "stream",
     "text": [
      "Confusion Matrix (Act/Pred) for max f1 @ threshold = 0.8031020068650673: \n"
     ]
    },
    {
     "data": {
      "text/html": [
       "<div style=\"overflow:auto\"><table style=\"width:50%\"><tr><td><b></b></td>\n",
       "<td><b>0</b></td>\n",
       "<td><b>1</b></td>\n",
       "<td><b>Error</b></td>\n",
       "<td><b>Rate</b></td></tr>\n",
       "<tr><td>0</td>\n",
       "<td>17.0</td>\n",
       "<td>1.0</td>\n",
       "<td>0.0556</td>\n",
       "<td> (1.0/18.0)</td></tr>\n",
       "<tr><td>1</td>\n",
       "<td>0.0</td>\n",
       "<td>32.0</td>\n",
       "<td>0.0</td>\n",
       "<td> (0.0/32.0)</td></tr>\n",
       "<tr><td>Total</td>\n",
       "<td>17.0</td>\n",
       "<td>33.0</td>\n",
       "<td>0.02</td>\n",
       "<td> (1.0/50.0)</td></tr></table></div>"
      ],
      "text/plain": [
       "       0    1    Error    Rate\n",
       "-----  ---  ---  -------  ----------\n",
       "0      17   1    0.0556   (1.0/18.0)\n",
       "1      0    32   0        (0.0/32.0)\n",
       "Total  17   33   0.02     (1.0/50.0)"
      ]
     },
     "metadata": {},
     "output_type": "display_data"
    },
    {
     "data": {
      "text/plain": []
     },
     "execution_count": 14,
     "metadata": {},
     "output_type": "execute_result"
    }
   ],
   "source": [
    "model_gbm.confusion_matrix(valid=True)"
   ]
  },
  {
   "cell_type": "code",
   "execution_count": 15,
   "metadata": {},
   "outputs": [
    {
     "data": {
      "image/png": "[encoded data removed]",
      "text/plain": [
       "<Figure size 432x288 with 1 Axes>"
      ]
     },
     "metadata": {
      "needs_background": "light"
     },
     "output_type": "display_data"
    }
   ],
   "source": [
    "model_gbm.plot()"
   ]
  },
  {
   "cell_type": "code",
   "execution_count": null,
   "metadata": {},
   "outputs": [],
   "source": [
    "model_gbm.model_performance(test)"
   ]
  },
  {
   "cell_type": "code",
   "execution_count": null,
   "metadata": {},
   "outputs": [],
   "source": []
  }
 ],
 "metadata": {
  "kernelspec": {
   "display_name": "Python 3",
   "language": "python",
   "name": "python3"
  },
  "language_info": {
   "codemirror_mode": {
    "name": "ipython",
    "version": 3
   },
   "file_extension": ".py",
   "mimetype": "text/x-python",
   "name": "python",
   "nbconvert_exporter": "python",
   "pygments_lexer": "ipython3",
   "version": "3.7.4"
  }
 },
 "nbformat": 4,
 "nbformat_minor": 2
}
